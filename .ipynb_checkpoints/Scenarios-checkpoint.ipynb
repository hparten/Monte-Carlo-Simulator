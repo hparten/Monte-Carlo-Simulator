{
 "cells": [
  {
   "cell_type": "code",
   "execution_count": 1,
   "metadata": {},
   "outputs": [],
   "source": [
    "# import packages\n",
    "import numpy as np\n",
    "import pandas as pd\n",
    "import matplotlib.pyplot as plt"
   ]
  },
  {
   "cell_type": "markdown",
   "metadata": {},
   "source": [
    "# Scenario 1: \n",
    "\n",
    "**A 2-headed coin**"
   ]
  },
  {
   "cell_type": "markdown",
   "metadata": {},
   "source": [
    "1. Create a fair coin (with faces H and T) and one unfair coin, in which one of the faces has a weight of 5 and the others 1."
   ]
  },
  {
   "cell_type": "code",
   "execution_count": null,
   "metadata": {},
   "outputs": [],
   "source": [
    "faces = ['H','T']\n",
    "fair = Die(faces)\n",
    "unfair = Die(faces)\n",
    "unfair.change_weight('H', 5)"
   ]
  },
  {
   "cell_type": "markdown",
   "metadata": {},
   "source": [
    "2. Play a game of 1000 flips with all fair dice."
   ]
  },
  {
   "cell_type": "code",
   "execution_count": null,
   "metadata": {},
   "outputs": [],
   "source": [
    "fair_game = Game([fair, fair, fair])\n",
    "fair_game.play_game(1000)"
   ]
  },
  {
   "cell_type": "markdown",
   "metadata": {},
   "source": [
    "3. Play a game of 1000 flips with two unfair dice and one fair die."
   ]
  },
  {
   "cell_type": "code",
   "execution_count": null,
   "metadata": {},
   "outputs": [],
   "source": [
    "unfair2 = Die(faces)\n",
    "unfair2.change_weight('T', 20)\n",
    "unfair_game = Game([fair, unfair, unfair])\n",
    "unfair_game.play_game(1000)"
   ]
  },
  {
   "cell_type": "markdown",
   "metadata": {},
   "source": [
    "4. For each game, use an Analyzer object to determine the\n",
    "relative frequency of jackpots – getting either all Hs or all Ts."
   ]
  },
  {
   "cell_type": "code",
   "execution_count": null,
   "metadata": {},
   "outputs": [],
   "source": [
    "fair_analyzer = Analyzer(fair_game)\n",
    "unfair_analyzer = Analyzer(unfair_game)\n",
    "fair_analyzer.jackpot()\n",
    "unfair_analyzer.jackpot()\n",
    "print('Fair Jackpot Count:', fair_analyzer.jackpot_count)\n",
    "print('Unfair Jackpot Count:', unfair_analyzer.jackpot_count)"
   ]
  },
  {
   "cell_type": "markdown",
   "metadata": {},
   "source": [
    "5. Compute relative frequency as the number of jackpots over the\n",
    "total number of rolls."
   ]
  },
  {
   "cell_type": "code",
   "execution_count": null,
   "metadata": {},
   "outputs": [],
   "source": [
    "fair_jackpot_pct = fair_analyzer.jackpot_count/1000\n",
    "unfair_jackpot_pct = unfair_analyzer.jackpot_count/1000\n",
    "print('Fair Jackpot Percent:', fair_jackpot_pct)\n",
    "print('Unfair Jackpot Percent:', unfair_jackpot_pct)"
   ]
  },
  {
   "cell_type": "markdown",
   "metadata": {},
   "source": [
    "6. Show your results, comparing the two relative frequencies, in a\n",
    "simple bar chart."
   ]
  },
  {
   "cell_type": "code",
   "execution_count": null,
   "metadata": {},
   "outputs": [],
   "source": [
    "plt.bar(['Fair Game', 'Unfair Game'],[fair_analyzer.jackpot_count, unfair_analyzer.jackpot_count]);\n",
    "plt.ylabel('# of Jackpots');\n",
    "plt.title('Frequency of Jackpots by Game Type');"
   ]
  },
  {
   "cell_type": "markdown",
   "metadata": {},
   "source": [
    "# Scenario 2: \n",
    "\n",
    "**A 6-sided die** "
   ]
  },
  {
   "cell_type": "markdown",
   "metadata": {},
   "source": [
    "1. Create a fair die and two unfair dice, all of six sides with the faces 1 through 6. One unfair die (Type 1) will weight 6 five times more than the others (i.e. it has weight of 5 and the others a weight of 1 each). The other unfair die (Type 2) will weight 1 five times more than the others."
   ]
  },
  {
   "cell_type": "code",
   "execution_count": null,
   "metadata": {},
   "outputs": [],
   "source": [
    "faces2 = [1,2,3,4,5,6]\n",
    "f_die = Die(faces2)\n",
    "u_die1 = Die(faces2)\n",
    "u_die1.change_weight(6, 5)\n",
    "u_die2 = Die(faces2)\n",
    "u_die2.change_weight(1, 5)"
   ]
  },
  {
   "cell_type": "markdown",
   "metadata": {},
   "source": [
    "2. Play a game of 10000 rolls with 5 fair dice."
   ]
  },
  {
   "cell_type": "code",
   "execution_count": null,
   "metadata": {},
   "outputs": [],
   "source": [
    "f_game = Game([f_die, f_die, f_die, f_die, f_die])\n",
    "f_game.play_game(10000)"
   ]
  },
  {
   "cell_type": "markdown",
   "metadata": {},
   "source": [
    "3. Play a game of 10000 rolls with 2 unfair dice of type 1, 1 unfair\n",
    "die of type 2, and the rest fair dice."
   ]
  },
  {
   "cell_type": "code",
   "execution_count": null,
   "metadata": {},
   "outputs": [],
   "source": [
    "u_game = Game([u_die1, u_die1, u_die2, f_die, f_die])\n",
    "u_game.play_game(10000)"
   ]
  },
  {
   "cell_type": "markdown",
   "metadata": {},
   "source": [
    "4. For each game, use an Analyzer object to determine the\n",
    "relative frequency of jackpots and show your results,\n",
    "comparing the two relative frequencies, in a simple bar chart."
   ]
  },
  {
   "cell_type": "code",
   "execution_count": null,
   "metadata": {},
   "outputs": [],
   "source": [
    "f_analyzer = Analyzer(f_game)\n",
    "u_analyzer = Analyzer(u_game)\n",
    "\n",
    "f_analyzer.jackpot()\n",
    "u_analyzer.jackpot()\n",
    "f_analyzer.jackpot_results"
   ]
  },
  {
   "cell_type": "code",
   "execution_count": null,
   "metadata": {},
   "outputs": [],
   "source": [
    "u_analyzer.jackpot_results"
   ]
  },
  {
   "cell_type": "code",
   "execution_count": null,
   "metadata": {},
   "outputs": [],
   "source": [
    "print('Fair Jackpot Count:', f_analyzer.jackpot_count)\n",
    "print('Unfair Jackpot Count:', u_analyzer.jackpot_count)"
   ]
  },
  {
   "cell_type": "code",
   "execution_count": null,
   "metadata": {},
   "outputs": [],
   "source": [
    "plt.bar(['Fair Game', 'Unfair Game'],[f_analyzer.jackpot_count, u_analyzer.jackpot_count]);\n",
    "plt.ylabel('# of Jackpots');\n",
    "plt.title('Frequency of Jackpots by Game Type');"
   ]
  },
  {
   "cell_type": "markdown",
   "metadata": {},
   "source": [
    "5. Also compute 10 most frequent combinations of faces for each\n",
    "game. Plot each of these as bar charts."
   ]
  },
  {
   "cell_type": "code",
   "execution_count": null,
   "metadata": {},
   "outputs": [],
   "source": [
    "f_analyzer.combo()\n",
    "u_analyzer.combo()\n",
    "top10_fair_combos = f_analyzer.combo_results.head(10)\n",
    "top10_fair_combos\n"
   ]
  },
  {
   "cell_type": "code",
   "execution_count": null,
   "metadata": {},
   "outputs": [],
   "source": [
    "count_series = pd.Series(list(top10_fair_combos.counts.values))\n",
    "fig = count_series.plot(kind='bar')\n",
    "x_labels = list(top10_fair_combos.index.values)\n",
    "fig.set_xticklabels(x_labels);\n",
    "fig.set_xlabel('Combinations');\n",
    "fig.set_ylabel('Counts');\n",
    "fig.set_title('Top 10 Fair Combination Counts');"
   ]
  },
  {
   "cell_type": "code",
   "execution_count": null,
   "metadata": {},
   "outputs": [],
   "source": [
    "top10_unfair_combos = u_analyzer.combo_results.head(10)\n",
    "top10_unfair_combos"
   ]
  },
  {
   "cell_type": "code",
   "execution_count": null,
   "metadata": {},
   "outputs": [],
   "source": [
    "count_series2 = pd.Series(list(top10_unfair_combos.counts.values))\n",
    "fig2 = count_series2.plot(kind='bar')\n",
    "x_labels2 = list(top10_unfair_combos.index.values)\n",
    "fig2.set_xticklabels(x_labels2);\n",
    "fig2.set_xlabel('Combinations');\n",
    "fig2.set_ylabel('Counts');\n",
    "fig2.set_title('Top 10 Unfair Combination Counts');"
   ]
  },
  {
   "cell_type": "markdown",
   "metadata": {},
   "source": [
    "# Scenario 3: \n",
    "\n",
    "**Letters of the Roman Alpha** "
   ]
  },
  {
   "cell_type": "markdown",
   "metadata": {},
   "source": [
    "1. Create a \"die\" of letters from a to z with weights based on their frequency of usage."
   ]
  },
  {
   "cell_type": "code",
   "execution_count": null,
   "metadata": {},
   "outputs": [],
   "source": [
    "letters_freq_dict = {\n",
    "    'A': 8.4966,\n",
    "    'B': 2.0720,\n",
    "    'C': 4.5388,\n",
    "    'D': 3.3844,\n",
    "    'E': 11.1607,\n",
    "    'F': 1.8121,\n",
    "    'G': 2.4705,\n",
    "    'H': 3.0034,\n",
    "    'I': 7.5448,\n",
    "    'J': 0.1965,\n",
    "    'K': 1.1016,\n",
    "    'L': 5.4893,\n",
    "    'M': 3.0129,\n",
    "    'N': 6.6544,\n",
    "    'O': 7.1635,\n",
    "    'P': 3.1671,\n",
    "    'Q': 0.1962,\n",
    "    'R': 7.5809,\n",
    "    'S': 5.7351,\n",
    "    'T': 6.9509,\n",
    "    'U': 3.6308,\n",
    "    'V': 1.0074,\n",
    "    'W': 1.2899,\n",
    "    'X': 0.2902,\n",
    "    'Y': 1.7779,\n",
    "    'Z': 0.2722\n",
    "}\n",
    "letter_die = Die(list(letters_freq_dict.keys()))\n",
    "\n",
    "for l, w in letters_freq_dict.items():\n",
    "    letter_die.change_weight(l, w)\n",
    "    \n",
    "letter_die.show_latest_die()"
   ]
  },
  {
   "cell_type": "markdown",
   "metadata": {},
   "source": [
    "2. Play a game involving 5 of these dice with 1000 rolls."
   ]
  },
  {
   "cell_type": "code",
   "execution_count": null,
   "metadata": {},
   "outputs": [],
   "source": [
    "letter_game = Game([letter_die, letter_die, letter_die, letter_die, letter_die])\n",
    "letter_game.play_game(1000)"
   ]
  },
  {
   "cell_type": "markdown",
   "metadata": {},
   "source": [
    "3. How many combos can you that look like actual English\n",
    "words? NOTE: \"combo\" here just means resulting sequence,\n",
    "not literally combination as opposed to permutation."
   ]
  },
  {
   "cell_type": "code",
   "execution_count": null,
   "metadata": {},
   "outputs": [],
   "source": [
    "letter_analyzer = Analyzer(letter_game)\n",
    "letter_analyzer.combo()\n",
    "search_df = letter_analyzer.combo_results.reset_index().sort_values([0])\n",
    "pd.set_option('max_rows', 1000)\n",
    "search_df"
   ]
  },
  {
   "cell_type": "markdown",
   "metadata": {},
   "source": [
    "4. Based on your eye count, what is the relative frequency of\n",
    "these words versus the rest?\n"
   ]
  },
  {
   "cell_type": "code",
   "execution_count": null,
   "metadata": {},
   "outputs": [],
   "source": [
    "freq = 2/1000\n",
    "freq"
   ]
  }
 ],
 "metadata": {
  "kernelspec": {
   "display_name": "Python 3",
   "language": "python",
   "name": "python3"
  },
  "language_info": {
   "codemirror_mode": {
    "name": "ipython",
    "version": 3
   },
   "file_extension": ".py",
   "mimetype": "text/x-python",
   "name": "python",
   "nbconvert_exporter": "python",
   "pygments_lexer": "ipython3",
   "version": "3.8.8"
  }
 },
 "nbformat": 4,
 "nbformat_minor": 4
}
